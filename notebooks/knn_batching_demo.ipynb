{
 "cells": [
  {
   "cell_type": "code",
   "execution_count": 1,
   "id": "7158b3f3-68ec-4196-951d-d16df37354b8",
   "metadata": {},
   "outputs": [],
   "source": [
    "import jax\n",
    "import jax.numpy as jnp\n",
    "import jaxkdtree"
   ]
  },
  {
   "cell_type": "code",
   "execution_count": 2,
   "id": "8cfadbb6-af5f-463f-b8b3-426b62006041",
   "metadata": {},
   "outputs": [],
   "source": [
    "# Generating some random coordinates\n",
    "pos = jax.random.normal(jax.random.PRNGKey(0), (12, 1000, 3))"
   ]
  },
  {
   "cell_type": "markdown",
   "id": "f8aa1fa7-09ba-4b0b-a99d-89bb67a8ddac",
   "metadata": {},
   "source": [
    "## Batching"
   ]
  },
  {
   "cell_type": "markdown",
   "id": "b324ec12-b7f5-48a6-a913-e1e636a57d15",
   "metadata": {},
   "source": [
    "Check that batching works."
   ]
  },
  {
   "cell_type": "code",
   "execution_count": 3,
   "id": "7311f09c-a1aa-4492-a3fb-ff785ca3b5c8",
   "metadata": {},
   "outputs": [],
   "source": [
    "# Finding k=8 nearest neighbors, no batch\n",
    "res_single_0 = jaxkdtree.kNN(pos[0], k=8, max_radius=100.0)\n",
    "res_single_1 = jaxkdtree.kNN(pos[1], k=8, max_radius=100.0)"
   ]
  },
  {
   "cell_type": "code",
   "execution_count": 4,
   "id": "75a4bd4f-8aeb-4ea0-bee3-5eda02cc3dba",
   "metadata": {},
   "outputs": [],
   "source": [
    "# Finding k=8 nearest neighbors, batched\n",
    "res_batch = jax.vmap(jaxkdtree.kNN, in_axes=(0,None,None))(pos, 8, 100.0)"
   ]
  },
  {
   "cell_type": "code",
   "execution_count": 5,
   "id": "74e1a790-ec0f-42f2-ba9c-691fc27e7f84",
   "metadata": {},
   "outputs": [
    {
     "data": {
      "text/plain": [
       "(Array(True, dtype=bool), Array(True, dtype=bool))"
      ]
     },
     "execution_count": 5,
     "metadata": {},
     "output_type": "execute_result"
    }
   ],
   "source": [
    "# Check that batched and unbatched give same result\n",
    "jnp.allclose(res_batch[0], res_single_0), jnp.allclose(res_batch[1], res_single_1)"
   ]
  },
  {
   "cell_type": "markdown",
   "id": "6ddf3d50-bd79-4334-afeb-9c336607b556",
   "metadata": {},
   "source": [
    "## JIT"
   ]
  },
  {
   "cell_type": "markdown",
   "id": "5bc9b138-3c24-4cf2-8c60-113faba60ef1",
   "metadata": {},
   "source": [
    "Check that jit works."
   ]
  },
  {
   "cell_type": "code",
   "execution_count": 6,
   "id": "67339b95-2a01-4693-bc91-b64350a97a49",
   "metadata": {},
   "outputs": [],
   "source": [
    "# Make sure jit works\n",
    "jax.jit(jax.vmap(jaxkdtree.kNN, in_axes=(0,None,None)), static_argnums=(1,2,))(pos, 8, 100.0);"
   ]
  },
  {
   "cell_type": "markdown",
   "id": "bfd6b772-bfb5-4e6a-acf5-7b6363f5c77a",
   "metadata": {},
   "source": [
    "## Compare to pairwise-distance calculation"
   ]
  },
  {
   "cell_type": "markdown",
   "id": "4957f2f8-eab1-4d95-ad28-8a3472c468f4",
   "metadata": {},
   "source": [
    "Make sure we get the same answer with pairwise distances."
   ]
  },
  {
   "cell_type": "code",
   "execution_count": 7,
   "id": "6b52e514-69bf-46af-9839-8292be32e63e",
   "metadata": {},
   "outputs": [
    {
     "data": {
      "text/plain": [
       "Array(True, dtype=bool)"
      ]
     },
     "execution_count": 7,
     "metadata": {},
     "output_type": "execute_result"
    }
   ],
   "source": [
    "def pairwise_distances(point_cloud):\n",
    "    \"\"\" Compute pairwise distances between points in a point cloud\"\"\"\n",
    "    dr = point_cloud[:, None, :] - point_cloud[None, :, :]\n",
    "    return jnp.sum(dr**2, axis=-1)\n",
    "\n",
    "# Pairwise distances and sorted indices\n",
    "distance_matrices = jax.vmap(pairwise_distances)(pos)\n",
    "dist_results_indices = jnp.argsort(distance_matrices, axis=-1)[..., :8]\n",
    "\n",
    "jnp.allclose(res_batch, dist_results_indices)"
   ]
  },
  {
   "cell_type": "markdown",
   "id": "d4fae3e0-0f55-4c52-bcd0-9b072b174a01",
   "metadata": {},
   "source": [
    "## Different $k$"
   ]
  },
  {
   "cell_type": "code",
   "execution_count": 8,
   "id": "55882e97-3b71-4ea1-9625-fbd6a22f6f94",
   "metadata": {},
   "outputs": [
    {
     "data": {
      "text/plain": [
       "Array(True, dtype=bool)"
      ]
     },
     "execution_count": 8,
     "metadata": {},
     "output_type": "execute_result"
    }
   ],
   "source": [
    "# Finding k=50 nearest neighbors, batched\n",
    "res_batch = jax.vmap(jaxkdtree.kNN, in_axes=(0,None,None))(pos, 50, 100.0)\n",
    "\n",
    "# Using pairwise-distance matrix\n",
    "dist_results_indices = jnp.argsort(distance_matrices, axis=-1)[..., :50]\n",
    "\n",
    "jnp.allclose(res_batch, dist_results_indices)"
   ]
  },
  {
   "cell_type": "code",
   "execution_count": null,
   "id": "7d68cc71-eff3-4e4d-b4fc-82ee43cd7ba0",
   "metadata": {},
   "outputs": [],
   "source": []
  }
 ],
 "metadata": {
  "kernelspec": {
   "display_name": "Python 3 (ipykernel)",
   "language": "python",
   "name": "python3"
  },
  "language_info": {
   "codemirror_mode": {
    "name": "ipython",
    "version": 3
   },
   "file_extension": ".py",
   "mimetype": "text/x-python",
   "name": "python",
   "nbconvert_exporter": "python",
   "pygments_lexer": "ipython3",
   "version": "3.10.9"
  }
 },
 "nbformat": 4,
 "nbformat_minor": 5
}
