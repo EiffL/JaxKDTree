{
 "cells": [
  {
   "cell_type": "code",
   "execution_count": 1,
   "id": "7158b3f3-68ec-4196-951d-d16df37354b8",
   "metadata": {},
   "outputs": [],
   "source": [
    "import jax\n",
    "import jax.numpy as jnp\n",
    "import jaxkdtree"
   ]
  },
  {
   "cell_type": "code",
   "execution_count": 2,
   "id": "8cfadbb6-af5f-463f-b8b3-426b62006041",
   "metadata": {},
   "outputs": [],
   "source": [
    "# Generating some random coordinates\n",
    "pos = jax.random.normal(jax.random.PRNGKey(0), (32, 1000, 3))"
   ]
  },
  {
   "cell_type": "code",
   "execution_count": 3,
   "id": "7311f09c-a1aa-4492-a3fb-ff785ca3b5c8",
   "metadata": {},
   "outputs": [],
   "source": [
    "# Finding k=8 nearest neighbors, no batch\n",
    "res_single_0 = jaxkdtree.kNN(pos[0], k=8, max_radius=1.0)\n",
    "res_single_1 = jaxkdtree.kNN(pos[1], k=8, max_radius=1.0)"
   ]
  },
  {
   "cell_type": "code",
   "execution_count": 4,
   "id": "75a4bd4f-8aeb-4ea0-bee3-5eda02cc3dba",
   "metadata": {},
   "outputs": [],
   "source": [
    "# Finding k=8 nearest neighbors, batched\n",
    "res_batch = jax.vmap(jaxkdtree.kNN, in_axes=(0,None,None))(pos, 8, 1.0)"
   ]
  },
  {
   "cell_type": "code",
   "execution_count": 5,
   "id": "74e1a790-ec0f-42f2-ba9c-691fc27e7f84",
   "metadata": {},
   "outputs": [
    {
     "data": {
      "text/plain": [
       "(Array(True, dtype=bool), Array(True, dtype=bool))"
      ]
     },
     "execution_count": 5,
     "metadata": {},
     "output_type": "execute_result"
    }
   ],
   "source": [
    "# Check that batched and unbatched give same result\n",
    "jnp.allclose(res_batch[0], res_single_0), jnp.allclose(res_batch[1], res_single_1)"
   ]
  },
  {
   "cell_type": "code",
   "execution_count": 6,
   "id": "67339b95-2a01-4693-bc91-b64350a97a49",
   "metadata": {},
   "outputs": [
    {
     "data": {
      "text/plain": [
       "Array([[[  0, 396,  34, ..., 791, 142, 571],\n",
       "        [  1, 680, 569, ..., 284, 134, 325],\n",
       "        [  2, 899, 789, ..., 927, 394, 393],\n",
       "        ...,\n",
       "        [997, 478,   6, ..., 506, 498, 998],\n",
       "        [998, 498, 123, ..., 505,  61, 501],\n",
       "        [999, 894, 222, ..., 444,  61, 248]],\n",
       "\n",
       "       [[  0, 850, 313, ..., 211, 847, 416],\n",
       "        [  1, 160, 562, ..., 674, 644, 321],\n",
       "        [  2, 798, 453, ..., 794, 198, 826],\n",
       "        ...,\n",
       "        [997, 498, 942, ..., 248, 125, 503],\n",
       "        [998, 498, 505, ..., 996, 123, 254],\n",
       "        [999,  61, 499, ..., 889, 124,  54]],\n",
       "\n",
       "       [[  0, 793, 447, ..., 341,  77, 574],\n",
       "        [  1, 739,  84, ..., 904, 451,  77],\n",
       "        [  2, 829, 817, ..., 115, 102, 825],\n",
       "        ...,\n",
       "        [997, 248, 498, ..., 893, 505,  61],\n",
       "        [998,  30, 509, ..., 498, 503, 253],\n",
       "        [999, 994, 890, ..., 992, 124, 973]],\n",
       "\n",
       "       ...,\n",
       "\n",
       "       [[  0, 961, 480, ..., 479, 370, 377],\n",
       "        [  1, 270, 542, ..., 679, 569, 680],\n",
       "        [  2, 818, 408, ..., 815, 932, 928],\n",
       "        ...,\n",
       "        [997, 248, 234, ..., 998, 956, 238],\n",
       "        [998, 498, 500, ..., 997, 252, 994],\n",
       "        [999, 110,  54, ..., 889, 886, 500]],\n",
       "\n",
       "       [[  0, 286, 786, ..., 903, 195, 142],\n",
       "        [  1, 707, 597, ...,  87,   3, 353],\n",
       "        [  2, 817, 819, ..., 789, 471, 392],\n",
       "        ...,\n",
       "        [997,  62, 248, ..., 446, 885,  -1],\n",
       "        [998, 498, 248, ..., 509, 996, 994],\n",
       "        [999, 124, 500, ...,  14,  61, 249]],\n",
       "\n",
       "       [[  0, 415,  68, ..., 431, 303, 776],\n",
       "        [  1, 630, 629, ..., 637, 747, 633],\n",
       "        [  2,  14, 936, ..., 440,   6, 853],\n",
       "        ...,\n",
       "        [997, 498, 125, ..., 123, 496,  62],\n",
       "        [998, 498, 248, ...,  62, 442, 996],\n",
       "        [999, 992,  54, ..., 886, 996, 499]]], dtype=int32)"
      ]
     },
     "execution_count": 6,
     "metadata": {},
     "output_type": "execute_result"
    }
   ],
   "source": [
    "# Make sure jit works\n",
    "jax.jit(jax.vmap(jaxkdtree.kNN, in_axes=(0,None,None)), static_argnums=(1,2,))(pos, 8, 1.0)"
   ]
  },
  {
   "cell_type": "code",
   "execution_count": null,
   "id": "55882e97-3b71-4ea1-9625-fbd6a22f6f94",
   "metadata": {},
   "outputs": [],
   "source": []
  }
 ],
 "metadata": {
  "kernelspec": {
   "display_name": "Python 3 (ipykernel)",
   "language": "python",
   "name": "python3"
  },
  "language_info": {
   "codemirror_mode": {
    "name": "ipython",
    "version": 3
   },
   "file_extension": ".py",
   "mimetype": "text/x-python",
   "name": "python",
   "nbconvert_exporter": "python",
   "pygments_lexer": "ipython3",
   "version": "3.10.9"
  }
 },
 "nbformat": 4,
 "nbformat_minor": 5
}
