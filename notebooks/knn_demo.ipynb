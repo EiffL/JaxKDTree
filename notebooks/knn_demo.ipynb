{
  "cells": [
    {
      "cell_type": "markdown",
      "metadata": {
        "id": "view-in-github",
        "colab_type": "text"
      },
      "source": [
        "<a href=\"https://colab.research.google.com/github/EiffL/JaxKDTree/blob/main/notebooks/knn_demo.ipynb\" target=\"_parent\"><img src=\"https://colab.research.google.com/assets/colab-badge.svg\" alt=\"Open In Colab\"/></a>"
      ]
    },
    {
      "cell_type": "code",
      "execution_count": 1,
      "metadata": {
        "colab": {
          "base_uri": "https://localhost:8080/"
        },
        "id": "8BUWELfAQ9gY",
        "outputId": "91a038df-e87b-44e1-f9ae-8bca9ff6ee6f"
      },
      "outputs": [
        {
          "output_type": "stream",
          "name": "stdout",
          "text": [
            "Looking in indexes: https://pypi.org/simple, https://us-python.pkg.dev/colab-wheels/public/simple/\n",
            "Collecting git+https://github.com/EiffL/JaxKDTree.git\n",
            "  Cloning https://github.com/EiffL/JaxKDTree.git to /tmp/pip-req-build-hoc9jerf\n",
            "  Running command git clone --filter=blob:none --quiet https://github.com/EiffL/JaxKDTree.git /tmp/pip-req-build-hoc9jerf\n",
            "  Resolved https://github.com/EiffL/JaxKDTree.git to commit 52656eaeee5fc45dd6252ef16a61b68c0213723e\n",
            "  Running command git submodule update --init --recursive -q\n",
            "  Preparing metadata (setup.py) ... \u001b[?25l\u001b[?25hdone\n",
            "Building wheels for collected packages: jaxKDTree\n",
            "  Building wheel for jaxKDTree (setup.py) ... \u001b[?25l\u001b[?25hdone\n",
            "  Created wheel for jaxKDTree: filename=jaxKDTree-0.1.dev8+g52656ea-cp310-cp310-linux_x86_64.whl size=328762 sha256=7dabd7c244c33998d0a82e633b8969db7cbba7bccd42927fc57217d3624bc976\n",
            "  Stored in directory: /tmp/pip-ephem-wheel-cache-b1ffbzvp/wheels/25/51/2e/a338e4cd9a3f0196ad98108d6eeb6cc0f98d59f3e94f3abdee\n",
            "Successfully built jaxKDTree\n",
            "Installing collected packages: jaxKDTree\n",
            "Successfully installed jaxKDTree-0.1.dev8+g52656ea\n"
          ]
        }
      ],
      "source": [
        "!pip install git+https://github.com/EiffL/JaxKDTree.git"
      ]
    },
    {
      "cell_type": "code",
      "execution_count": 2,
      "metadata": {
        "id": "DIpW0-K-ROTt"
      },
      "outputs": [],
      "source": [
        "import jax\n",
        "import jax.numpy as jnp\n",
        "import jaxkdtree"
      ]
    },
    {
      "cell_type": "code",
      "execution_count": 3,
      "metadata": {
        "id": "AfvKh9UARhfp"
      },
      "outputs": [],
      "source": [
        "# Generating some random coordinates\n",
        "pos = jax.random.normal(jax.random.PRNGKey(0), (128**3,3))"
      ]
    },
    {
      "cell_type": "code",
      "execution_count": 4,
      "metadata": {
        "id": "DiRoi7mwRi4V"
      },
      "outputs": [],
      "source": [
        "# Finding k=8 nearest neighbors \n",
        "res = jaxkdtree.kNN(pos, k=8, max_radius=1.0)"
      ]
    },
    {
      "cell_type": "code",
      "execution_count": 5,
      "metadata": {
        "colab": {
          "base_uri": "https://localhost:8080/"
        },
        "id": "1zpOQP6cR3Ap",
        "outputId": "1cf44ae1-4f67-43a6-9fce-aeb34ddf2243"
      },
      "outputs": [
        {
          "output_type": "execute_result",
          "data": {
            "text/plain": [
              "Array([[      0,  928767, 1854024, ..., 1406389,  231752, 1854023],\n",
              "       [      1, 1510401,  642412, ..., 1509521, 1285704, 1509525],\n",
              "       [      2, 1635018, 1859711, ..., 1845669, 1845667, 1845668],\n",
              "       ...,\n",
              "       [2097149,  524286, 2097147, ...,  262142, 1048573,  524284],\n",
              "       [2097150,      -1,      -1, ...,      -1,      -1,      -1],\n",
              "       [2097151, 1048576, 1048587, ...,  524319, 1048578,  262145]],      dtype=int32)"
            ]
          },
          "metadata": {},
          "execution_count": 5
        }
      ],
      "source": [
        "res"
      ]
    },
    {
      "cell_type": "code",
      "execution_count": 6,
      "metadata": {
        "id": "YNfLdf7aR37d"
      },
      "outputs": [],
      "source": [
        "# And it works in jitted code \\o/\n",
        "@jax.jit\n",
        "def knn_center(pos):\n",
        "  inds = jaxkdtree.kNN(pos, k=8, max_radius=10.)\n",
        "  return pos[inds].mean(axis=1)"
      ]
    },
    {
      "cell_type": "code",
      "execution_count": 8,
      "metadata": {
        "colab": {
          "base_uri": "https://localhost:8080/"
        },
        "id": "-AejHzSdS9Oi",
        "outputId": "05146e36-a164-4c1e-f748-61fe9fd5f5ce"
      },
      "outputs": [
        {
          "output_type": "stream",
          "name": "stdout",
          "text": [
            "97.3 ms ± 974 µs per loop (mean ± std. dev. of 7 runs, 10 loops each)\n"
          ]
        }
      ],
      "source": [
        "%timeit centers = knn_center(pos).block_until_ready()"
      ]
    },
    {
      "cell_type": "code",
      "execution_count": null,
      "metadata": {
        "id": "H3x2rY30TAcc"
      },
      "outputs": [],
      "source": []
    }
  ],
  "metadata": {
    "accelerator": "GPU",
    "colab": {
      "gpuType": "V100",
      "provenance": [],
      "machine_shape": "hm",
      "include_colab_link": true
    },
    "kernelspec": {
      "display_name": "Python 3",
      "name": "python3"
    },
    "language_info": {
      "codemirror_mode": {
        "name": "ipython",
        "version": 3
      },
      "file_extension": ".py",
      "mimetype": "text/x-python",
      "name": "python",
      "nbconvert_exporter": "python",
      "pygments_lexer": "ipython3",
      "version": "3.8.16"
    }
  },
  "nbformat": 4,
  "nbformat_minor": 0
}