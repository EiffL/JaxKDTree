{
  "nbformat": 4,
  "nbformat_minor": 0,
  "metadata": {
    "colab": {
      "provenance": [],
      "gpuType": "T4",
      "authorship_tag": "ABX9TyMxPxoIjQjnNwUg7RfiOtDV",
      "include_colab_link": true
    },
    "kernelspec": {
      "name": "python3",
      "display_name": "Python 3"
    },
    "language_info": {
      "name": "python"
    },
    "accelerator": "GPU"
  },
  "cells": [
    {
      "cell_type": "markdown",
      "metadata": {
        "id": "view-in-github",
        "colab_type": "text"
      },
      "source": [
        "<a href=\"https://colab.research.google.com/github/EiffL/JaxKDTree/blob/main/notebooks/knn_demo.ipynb\" target=\"_parent\"><img src=\"https://colab.research.google.com/assets/colab-badge.svg\" alt=\"Open In Colab\"/></a>"
      ]
    },
    {
      "cell_type": "code",
      "execution_count": 2,
      "metadata": {
        "colab": {
          "base_uri": "https://localhost:8080/"
        },
        "id": "8BUWELfAQ9gY",
        "outputId": "0924c481-38c6-4690-ab1e-4c2a87645dbe"
      },
      "outputs": [
        {
          "output_type": "stream",
          "name": "stdout",
          "text": [
            "Looking in indexes: https://pypi.org/simple, https://us-python.pkg.dev/colab-wheels/public/simple/\n",
            "Collecting git+https://github.com/EiffL/JaxKDTree.git\n",
            "  Cloning https://github.com/EiffL/JaxKDTree.git to /tmp/pip-req-build-jvvcdx9_\n",
            "  Running command git clone --filter=blob:none --quiet https://github.com/EiffL/JaxKDTree.git /tmp/pip-req-build-jvvcdx9_\n",
            "  Resolved https://github.com/EiffL/JaxKDTree.git to commit ebf72b5920e84d23a1700c656256d7ec50b700b9\n",
            "  Running command git submodule update --init --recursive -q\n",
            "  Preparing metadata (setup.py) ... \u001b[?25l\u001b[?25hdone\n",
            "Building wheels for collected packages: jaxKDTree\n",
            "  Building wheel for jaxKDTree (setup.py) ... \u001b[?25l\u001b[?25hdone\n",
            "  Created wheel for jaxKDTree: filename=jaxKDTree-0.1.dev5+gebf72b5-cp310-cp310-linux_x86_64.whl size=326811 sha256=9e9b11ed587700d718445a44bae760bf2c45c38e38a489c117dc557d84c536e9\n",
            "  Stored in directory: /tmp/pip-ephem-wheel-cache-8njachw_/wheels/25/51/2e/a338e4cd9a3f0196ad98108d6eeb6cc0f98d59f3e94f3abdee\n",
            "Successfully built jaxKDTree\n",
            "Installing collected packages: jaxKDTree\n",
            "Successfully installed jaxKDTree-0.1.dev5+gebf72b5\n"
          ]
        }
      ],
      "source": [
        "!pip install git+https://github.com/EiffL/JaxKDTree.git"
      ]
    },
    {
      "cell_type": "code",
      "source": [
        "import jax\n",
        "import jax.numpy as jnp\n",
        "import jaxkdtree"
      ],
      "metadata": {
        "id": "DIpW0-K-ROTt"
      },
      "execution_count": 3,
      "outputs": []
    },
    {
      "cell_type": "code",
      "source": [
        "# Generating some random coordinates\n",
        "pos = jax.random.normal(jax.random.PRNGKey(0), (100,3))"
      ],
      "metadata": {
        "id": "AfvKh9UARhfp"
      },
      "execution_count": 5,
      "outputs": []
    },
    {
      "cell_type": "code",
      "source": [
        "# Finding nearest neighbors \n",
        "res = jaxkdtree.kNN(pos)"
      ],
      "metadata": {
        "id": "DiRoi7mwRi4V"
      },
      "execution_count": 6,
      "outputs": []
    },
    {
      "cell_type": "code",
      "source": [
        "res"
      ],
      "metadata": {
        "colab": {
          "base_uri": "https://localhost:8080/"
        },
        "id": "1zpOQP6cR3Ap",
        "outputId": "31ccfab5-fe42-48e4-ebba-eeca6cf8e52c"
      },
      "execution_count": 7,
      "outputs": [
        {
          "output_type": "execute_result",
          "data": {
            "text/plain": [
              "Array([[ 0, 60, 29],\n",
              "       [ 1, 39, 80],\n",
              "       [ 2, 94, 92],\n",
              "       [ 3, 73, 77],\n",
              "       [ 4, 46, 22],\n",
              "       [ 5, 54, 26],\n",
              "       [ 6, 14, 93],\n",
              "       [ 7, 34, 65],\n",
              "       [ 8, 76, 51],\n",
              "       [ 9, 39,  1],\n",
              "       [10, 90, 21],\n",
              "       [11, 48,  5],\n",
              "       [12, 53, 25],\n",
              "       [13, 50, 56],\n",
              "       [14, 61,  0],\n",
              "       [15, 32, 17],\n",
              "       [16, 33, 67],\n",
              "       [17, 74, 15],\n",
              "       [18, 92, 78],\n",
              "       [19, 80, 39],\n",
              "       [20, 85, 41],\n",
              "       [21, 90, 10],\n",
              "       [22, 45,  4],\n",
              "       [23, 70, 69],\n",
              "       [24, 50,  5],\n",
              "       [25, 12, 18],\n",
              "       [26, 54, 98],\n",
              "       [27, 28, 56],\n",
              "       [28, 27, 57],\n",
              "       [29, 60,  0],\n",
              "       [30, 55, 56],\n",
              "       [31, 67, 64],\n",
              "       [32, 15, 87],\n",
              "       [33, 67, 16],\n",
              "       [34,  7,  3],\n",
              "       [35, 74, 72],\n",
              "       [36, 74, 78],\n",
              "       [37, 91, 75],\n",
              "       [38, 77, 91],\n",
              "       [39, 19,  9],\n",
              "       [40, 19, 39],\n",
              "       [41, 83, 84],\n",
              "       [42, 86, 85],\n",
              "       [43, 87, 90],\n",
              "       [44, 89, 82],\n",
              "       [45, 52, 22],\n",
              "       [46,  4, 29],\n",
              "       [47, 67, 33],\n",
              "       [48, 11, 97],\n",
              "       [49, 24, 57],\n",
              "       [50, 24, 13],\n",
              "       [51, 76,  8],\n",
              "       [52, 45, 98],\n",
              "       [53, 12, 25],\n",
              "       [54, 26,  5],\n",
              "       [55, 30,  0],\n",
              "       [56, 30, 55],\n",
              "       [57, 13, 50],\n",
              "       [58, 57, 28],\n",
              "       [59, 46, 45],\n",
              "       [60, 29,  0],\n",
              "       [61, 60, 29],\n",
              "       [62, 59, 14],\n",
              "       [63, 79,  9],\n",
              "       [64, 15, 31],\n",
              "       [65,  7,  1],\n",
              "       [66,  3, 34],\n",
              "       [67, 33, 16],\n",
              "       [68, 71, 75],\n",
              "       [69, 83, 41],\n",
              "       [70, 23, 75],\n",
              "       [71, 68, 75],\n",
              "       [72, 35, 43],\n",
              "       [73,  3, 77],\n",
              "       [74, 36, 78],\n",
              "       [75, 70, 37],\n",
              "       [76,  8, 51],\n",
              "       [77, 38, 73],\n",
              "       [78, 36, 18],\n",
              "       [79, 63, 81],\n",
              "       [80, 19,  1],\n",
              "       [81, 40, 39],\n",
              "       [82, 46, 89],\n",
              "       [83, 41, 69],\n",
              "       [84, 41, 69],\n",
              "       [85, 20, 55],\n",
              "       [86,  0, 14],\n",
              "       [87, 43, 32],\n",
              "       [88, 78, 92],\n",
              "       [89, 44, 82],\n",
              "       [90, 10, 21],\n",
              "       [91, 38, 45],\n",
              "       [92, 18, 88],\n",
              "       [93, 44, 14],\n",
              "       [94, 92,  2],\n",
              "       [95, 47, 99],\n",
              "       [96, 99, 23],\n",
              "       [97, 48, 83],\n",
              "       [98, 26, 52],\n",
              "       [99, 96, 11]], dtype=int32)"
            ]
          },
          "metadata": {},
          "execution_count": 7
        }
      ]
    },
    {
      "cell_type": "code",
      "source": [
        "# And it works in jitted code \\o/\n",
        "@jax.jit\n",
        "def knn_center(pos):\n",
        "  inds = jaxkdtree.kNN(pos)\n",
        "  return pos[inds].mean(axis=1)"
      ],
      "metadata": {
        "id": "YNfLdf7aR37d"
      },
      "execution_count": 22,
      "outputs": []
    },
    {
      "cell_type": "code",
      "source": [
        "%timeit centers = knn_center(pos)"
      ],
      "metadata": {
        "colab": {
          "base_uri": "https://localhost:8080/"
        },
        "id": "-AejHzSdS9Oi",
        "outputId": "dd0ac7b2-f954-4c62-c06f-41958c4123d0"
      },
      "execution_count": 24,
      "outputs": [
        {
          "output_type": "stream",
          "name": "stdout",
          "text": [
            "297 µs ± 8.44 µs per loop (mean ± std. dev. of 7 runs, 1000 loops each)\n"
          ]
        }
      ]
    },
    {
      "cell_type": "code",
      "source": [],
      "metadata": {
        "id": "H3x2rY30TAcc"
      },
      "execution_count": null,
      "outputs": []
    }
  ]
}