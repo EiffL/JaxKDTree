{
  "cells": [
    {
      "attachments": {},
      "cell_type": "markdown",
      "metadata": {
        "colab_type": "text",
        "id": "view-in-github"
      },
      "source": [
        "<a href=\"https://colab.research.google.com/github/EiffL/JaxKDTree/blob/main/notebooks/knn_demo.ipynb\" target=\"_parent\"><img src=\"https://colab.research.google.com/assets/colab-badge.svg\" alt=\"Open In Colab\"/></a>"
      ]
    },
    {
      "cell_type": "code",
      "execution_count": 2,
      "metadata": {
        "colab": {
          "base_uri": "https://localhost:8080/"
        },
        "id": "8BUWELfAQ9gY",
        "outputId": "0924c481-38c6-4690-ab1e-4c2a87645dbe"
      },
      "outputs": [
        {
          "name": "stdout",
          "output_type": "stream",
          "text": [
            "Looking in indexes: https://pypi.org/simple, https://us-python.pkg.dev/colab-wheels/public/simple/\n",
            "Collecting git+https://github.com/EiffL/JaxKDTree.git\n",
            "  Cloning https://github.com/EiffL/JaxKDTree.git to /tmp/pip-req-build-jvvcdx9_\n",
            "  Running command git clone --filter=blob:none --quiet https://github.com/EiffL/JaxKDTree.git /tmp/pip-req-build-jvvcdx9_\n",
            "  Resolved https://github.com/EiffL/JaxKDTree.git to commit ebf72b5920e84d23a1700c656256d7ec50b700b9\n",
            "  Running command git submodule update --init --recursive -q\n",
            "  Preparing metadata (setup.py) ... \u001b[?25l\u001b[?25hdone\n",
            "Building wheels for collected packages: jaxKDTree\n",
            "  Building wheel for jaxKDTree (setup.py) ... \u001b[?25l\u001b[?25hdone\n",
            "  Created wheel for jaxKDTree: filename=jaxKDTree-0.1.dev5+gebf72b5-cp310-cp310-linux_x86_64.whl size=326811 sha256=9e9b11ed587700d718445a44bae760bf2c45c38e38a489c117dc557d84c536e9\n",
            "  Stored in directory: /tmp/pip-ephem-wheel-cache-8njachw_/wheels/25/51/2e/a338e4cd9a3f0196ad98108d6eeb6cc0f98d59f3e94f3abdee\n",
            "Successfully built jaxKDTree\n",
            "Installing collected packages: jaxKDTree\n",
            "Successfully installed jaxKDTree-0.1.dev5+gebf72b5\n"
          ]
        }
      ],
      "source": [
        "!pip install git+https://github.com/EiffL/JaxKDTree.git"
      ]
    },
    {
      "cell_type": "code",
      "execution_count": 1,
      "metadata": {
        "id": "DIpW0-K-ROTt"
      },
      "outputs": [],
      "source": [
        "import jax\n",
        "import jax.numpy as jnp\n",
        "import jaxkdtree"
      ]
    },
    {
      "cell_type": "code",
      "execution_count": 2,
      "metadata": {
        "id": "AfvKh9UARhfp"
      },
      "outputs": [],
      "source": [
        "# Generating some random coordinates\n",
        "pos = jax.random.normal(jax.random.PRNGKey(0), (128**3,3))"
      ]
    },
    {
      "cell_type": "code",
      "execution_count": 5,
      "metadata": {
        "id": "DiRoi7mwRi4V"
      },
      "outputs": [],
      "source": [
        "# Finding k=8 nearest neighbors \n",
        "res = jaxkdtree.kNN(pos, k=8, max_radius=1.0)"
      ]
    },
    {
      "cell_type": "code",
      "execution_count": 6,
      "metadata": {
        "colab": {
          "base_uri": "https://localhost:8080/"
        },
        "id": "1zpOQP6cR3Ap",
        "outputId": "31ccfab5-fe42-48e4-ebba-eeca6cf8e52c"
      },
      "outputs": [
        {
          "data": {
            "text/plain": [
              "Array([[      0,  928767, 1854024, ..., 1406389,  231752, 1854023],\n",
              "       [      1, 1510401,  642412, ..., 1509521, 1285704, 1509525],\n",
              "       [      2, 1635018, 1859711, ..., 1845669, 1845667, 1845668],\n",
              "       ...,\n",
              "       [2097149,  524286, 2097147, ...,  262142, 1048573,  524284],\n",
              "       [2097150,      -1,      -1, ...,      -1,      -1,      -1],\n",
              "       [2097151, 1048576, 1048587, ...,  524319, 1048578,  262145]],      dtype=int32)"
            ]
          },
          "execution_count": 6,
          "metadata": {},
          "output_type": "execute_result"
        }
      ],
      "source": [
        "res"
      ]
    },
    {
      "cell_type": "code",
      "execution_count": 10,
      "metadata": {
        "id": "YNfLdf7aR37d"
      },
      "outputs": [],
      "source": [
        "# And it works in jitted code \\o/\n",
        "@jax.jit\n",
        "def knn_center(pos):\n",
        "  inds = jaxkdtree.kNN(pos, k=8, max_radius=10.)\n",
        "  return pos[inds].mean(axis=1)"
      ]
    },
    {
      "cell_type": "code",
      "execution_count": 11,
      "metadata": {
        "colab": {
          "base_uri": "https://localhost:8080/"
        },
        "id": "-AejHzSdS9Oi",
        "outputId": "dd0ac7b2-f954-4c62-c06f-41958c4123d0"
      },
      "outputs": [
        {
          "name": "stdout",
          "output_type": "stream",
          "text": [
            "98.8 ms ± 284 µs per loop (mean ± std. dev. of 7 runs, 10 loops each)\n"
          ]
        }
      ],
      "source": [
        "%timeit centers = knn_center(pos).block_until_ready()"
      ]
    },
    {
      "cell_type": "code",
      "execution_count": null,
      "metadata": {
        "id": "H3x2rY30TAcc"
      },
      "outputs": [],
      "source": []
    }
  ],
  "metadata": {
    "accelerator": "GPU",
    "colab": {
      "authorship_tag": "ABX9TyMxPxoIjQjnNwUg7RfiOtDV",
      "gpuType": "T4",
      "include_colab_link": true,
      "provenance": []
    },
    "kernelspec": {
      "display_name": "Python 3",
      "name": "python3"
    },
    "language_info": {
      "codemirror_mode": {
        "name": "ipython",
        "version": 3
      },
      "file_extension": ".py",
      "mimetype": "text/x-python",
      "name": "python",
      "nbconvert_exporter": "python",
      "pygments_lexer": "ipython3",
      "version": "3.8.16"
    }
  },
  "nbformat": 4,
  "nbformat_minor": 0
}
